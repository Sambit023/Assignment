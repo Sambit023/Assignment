{
 "cells": [
  {
   "cell_type": "markdown",
   "id": "57020bc6-b3ff-41d5-9bc7-02b89a204644",
   "metadata": {},
   "source": [
    "# ANSWERS"
   ]
  },
  {
   "cell_type": "markdown",
   "id": "8c19ff92-c7a5-4b09-9780-7c0b83db8bf2",
   "metadata": {},
   "source": [
    "1) Python Programming language developed by a Dutch programmer, Mr. Guido Van Rossum."
   ]
  },
  {
   "cell_type": "markdown",
   "id": "a0ae9677-4455-4c98-ae31-224bdb9583a0",
   "metadata": {},
   "source": [
    "2) Python, an interpreted programming language, supports object-oriented, structured & functional      programming."
   ]
  },
  {
   "cell_type": "markdown",
   "id": "49088a3e-e0fe-4b52-9146-b8112ceded65",
   "metadata": {},
   "source": [
    "3) Yes, Python is case-sensitive when dealing with identifiers."
   ]
  },
  {
   "cell_type": "markdown",
   "id": "b3facbba-5854-4531-95d4-abe05dce8dda",
   "metadata": {},
   "source": [
    "4) .py is the correct extention for a python file."
   ]
  },
  {
   "cell_type": "markdown",
   "id": "5db84338-2a74-4ea6-a062-7cd2409e0155",
   "metadata": {},
   "source": [
    "5) Python code is interpreted."
   ]
  },
  {
   "cell_type": "markdown",
   "id": "e4ec76a9-2f69-497b-883b-921a29f77a98",
   "metadata": {},
   "source": [
    "6) Function body is a few blocks of code used to define in python language. "
   ]
  },
  {
   "cell_type": "markdown",
   "id": "c788d31e-03a8-471f-88c4-d32b311910fe",
   "metadata": {},
   "source": [
    "7) \"#\" is the character used to give a single line comments in python."
   ]
  },
  {
   "cell_type": "markdown",
   "id": "9e690fc6-8947-4ac0-9bf5-cc15d4b46683",
   "metadata": {},
   "source": [
    "8) import sys module then sys.version help us to find the version python that we are currently        working on(Jupyter). We can also use help() function to find the version."
   ]
  },
  {
   "cell_type": "markdown",
   "id": "c8b77a9c-3240-4d88-a321-bef77115dff2",
   "metadata": {},
   "source": [
    "9) Python supports the creation of anonymous functions at run time, using a construct called          Lambda."
   ]
  },
  {
   "cell_type": "markdown",
   "id": "c93626c1-35b3-4f76-a9bd-983400ead3de",
   "metadata": {},
   "source": [
    "10) In python pip stands for Preferred Installer Program."
   ]
  },
  {
   "cell_type": "markdown",
   "id": "964863c0-b1c7-4286-8006-e9e37cd2297e",
   "metadata": {},
   "source": [
    "11) In python few built-in functions are type(), int(), str(), list(), tuple(), set(), dict(),         len(), sum(), input()."
   ]
  },
  {
   "cell_type": "markdown",
   "id": "67544ca3-78d5-4e01-bc3c-f46b6753fd34",
   "metadata": {},
   "source": [
    "12) The maximum possible length for an identifier is 79 in Python."
   ]
  },
  {
   "cell_type": "markdown",
   "id": "49a1ae06-fbcd-4994-bcec-54ebb2a9626f",
   "metadata": {},
   "source": [
    "13) Benefits of using Python are easy to learn, vast libraries support, interpreted language,           performance, scalability, integretion, cross-platform compatibility."
   ]
  },
  {
   "cell_type": "markdown",
   "id": "96e28ee7-e98f-4ed4-8864-080fa7532b8c",
   "metadata": {},
   "source": [
    "14) In Python, Memory Management is handeled by a private Heap Space. The heap is an area of memory     where objects are stored and managed. Python's Memory Manager takes care of allocating memory       for new objects and freeing memory for objects that are no longer in use. Python has two types     of memory that it uses:- Stack memory & Heap memory."
   ]
  },
  {
   "cell_type": "markdown",
   "id": "4e7dabaf-905f-40ec-9a02-691662153258",
   "metadata": {},
   "source": [
    "15) The process to install Python on Windows:-\n",
    "    a> Download Python Software.\n",
    "    b> Run Python Executable Installer.\n",
    "    c> Add Python to path(optional).\n",
    "    d> Verify Python, installed on Windows.\n",
    "    \n",
    "    The process to set path variables after installation:-\n",
    "    a> Right click on My Computer and click on properties.\n",
    "    b> Click on Advanced System settings.\n",
    "    c> Click on Environment Variables tab.\n",
    "    d> Click on New tab of User Variables.\n",
    "    e> Fill the Variable name & Variable value of New User Variable.\n",
    "    f> Click on Ok button till the System Properties tab come.\n",
    "    g> Click on Apply button."
   ]
  },
  {
   "cell_type": "markdown",
   "id": "ec63643f-3d93-4f72-b345-05a99ff5c188",
   "metadata": {},
   "source": [
    "16) Yes, indentation is required in Python."
   ]
  },
  {
   "cell_type": "code",
   "execution_count": null,
   "id": "d02a23b8-0b70-4fe6-86b6-47d6c7dcc21a",
   "metadata": {},
   "outputs": [],
   "source": []
  }
 ],
 "metadata": {
  "kernelspec": {
   "display_name": "Python 3 (ipykernel)",
   "language": "python",
   "name": "python3"
  },
  "language_info": {
   "codemirror_mode": {
    "name": "ipython",
    "version": 3
   },
   "file_extension": ".py",
   "mimetype": "text/x-python",
   "name": "python",
   "nbconvert_exporter": "python",
   "pygments_lexer": "ipython3",
   "version": "3.10.8"
  }
 },
 "nbformat": 4,
 "nbformat_minor": 5
}
