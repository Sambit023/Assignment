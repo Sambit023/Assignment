{
 "cells": [
  {
   "cell_type": "markdown",
   "id": "57020bc6-b3ff-41d5-9bc7-02b89a204644",
   "metadata": {},
   "source": [
    "ANSWERS"
   ]
  },
  {
   "cell_type": "raw",
   "id": "6c288e15-5af8-44ba-baea-11abaac49a8b",
   "metadata": {},
   "source": [
    "1) Python Programming language developed by a Dutch programmer, Mr. Guido Van Rossum."
   ]
  },
  {
   "cell_type": "raw",
   "id": "f63f00ab-2f55-4d58-98f6-0cc52abc1748",
   "metadata": {},
   "source": [
    "2) Python, an interpreted programming language, supports object-oriented, structured & functional      programming."
   ]
  },
  {
   "cell_type": "raw",
   "id": "b2cd6c88-65bc-42bb-9f40-3dafab86db84",
   "metadata": {},
   "source": [
    "3) Yes, Python is case-sensitive when dealing with identifiers."
   ]
  },
  {
   "cell_type": "raw",
   "id": "30d3498b-7218-4641-8e36-1b21d9914a96",
   "metadata": {},
   "source": [
    "4) .py is the correct extention for a python file."
   ]
  },
  {
   "cell_type": "raw",
   "id": "c656a592-7a2a-41d9-9120-9d4ef3988fba",
   "metadata": {},
   "source": [
    "5) Python code is interpreted."
   ]
  },
  {
   "cell_type": "raw",
   "id": "fe756fff-c96c-4334-80ca-be1e0787b5f3",
   "metadata": {},
   "source": [
    "6) Function body is a few blocks of code used to define in python language. "
   ]
  },
  {
   "cell_type": "raw",
   "id": "a4849e03-9249-4453-984f-bf82d75a57e9",
   "metadata": {},
   "source": [
    "7) # is the character used to give a single line comments in python."
   ]
  },
  {
   "cell_type": "raw",
   "id": "e048d665-f5e9-440d-9a3d-83b84a597c45",
   "metadata": {},
   "source": [
    "8) import sys module then sys.version help us to find the version python that we are currently        working on(Jupyter). We can also use help() function to find the version."
   ]
  },
  {
   "cell_type": "raw",
   "id": "b03f78b0-562e-436b-876a-ef5e6486fd83",
   "metadata": {},
   "source": [
    "9) Python supports the creation of anonymous functions at run time, using a construct called          Lambda."
   ]
  },
  {
   "cell_type": "raw",
   "id": "446ee869-5d2b-4120-a363-61d9f88901d9",
   "metadata": {},
   "source": [
    "10) In python pip stands for Preferred Installer Program."
   ]
  },
  {
   "cell_type": "raw",
   "id": "f2a85421-c637-471b-ba15-37823048b5ba",
   "metadata": {},
   "source": [
    "11) In python few built-in functions are type(), int(), str(), list(), tuple(), set(), dict(),         len(), sum(), input()."
   ]
  },
  {
   "cell_type": "raw",
   "id": "1b3df46e-d4a2-4c2c-9f7b-dac5b0720a2b",
   "metadata": {},
   "source": [
    "12) The maximum possible length for an identifier is 79 in Python."
   ]
  },
  {
   "cell_type": "raw",
   "id": "c74fe107-2f16-498b-86f9-c7cb13b4e3e2",
   "metadata": {},
   "source": [
    "13) Benefits of using Python are easy to learn, vast libraries support, interpreted language,           performance, scalability, integretion, cross-platform compatibility."
   ]
  },
  {
   "cell_type": "raw",
   "id": "fe1461e2-159e-4a1a-badf-0534550febab",
   "metadata": {},
   "source": [
    "14) In Python, Memory Management is handeled by a private Heap Space. The heap is an area of memory     where objects are stored and managed. Python's Memory Manager takes care of allocating memory       for new objects and freeing memory for objects that are no longer in use. Python has two types     of memory that it uses:- Stack memory & Heap memory."
   ]
  },
  {
   "cell_type": "raw",
   "id": "724f1901-51d4-46c7-9950-8417748419f8",
   "metadata": {},
   "source": [
    "15) The process to install Python on Windows:-\n",
    "    a> Download Python Software.\n",
    "    b> Run Python Executable Installer.\n",
    "    c> Add Python to path(optional).\n",
    "    d> Verify Python, installed on Windows.\n",
    "    \n",
    "    The process to set path variables after installation:-\n",
    "    a> Right click on My Computer and click on properties.\n",
    "    b> Click on Advanced System settings.\n",
    "    c> Click on Environment Variables tab.\n",
    "    d> Click on New tab of User Variables.\n",
    "    e> Fill the Variable name & Variable value of New User Variable.\n",
    "    f> Click on Ok button till the System Properties tab come.\n",
    "    g> Click on Apply button."
   ]
  },
  {
   "cell_type": "raw",
   "id": "dd669c08-fa56-4ce4-8045-4acab0303570",
   "metadata": {},
   "source": [
    "16) Yes, indentation is required in Python."
   ]
  },
  {
   "cell_type": "code",
   "execution_count": null,
   "id": "d02a23b8-0b70-4fe6-86b6-47d6c7dcc21a",
   "metadata": {},
   "outputs": [],
   "source": []
  }
 ],
 "metadata": {
  "kernelspec": {
   "display_name": "Python 3 (ipykernel)",
   "language": "python",
   "name": "python3"
  },
  "language_info": {
   "codemirror_mode": {
    "name": "ipython",
    "version": 3
   },
   "file_extension": ".py",
   "mimetype": "text/x-python",
   "name": "python",
   "nbconvert_exporter": "python",
   "pygments_lexer": "ipython3",
   "version": "3.10.8"
  }
 },
 "nbformat": 4,
 "nbformat_minor": 5
}
